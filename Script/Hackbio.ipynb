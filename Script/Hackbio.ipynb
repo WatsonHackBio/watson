{
  "nbformat": 4,
  "nbformat_minor": 0,
  "metadata": {
    "colab": {
      "name": "Hackbio.ipynb",
      "provenance": []
    },
    "kernelspec": {
      "name": "python3",
      "display_name": "Python 3"
    },
    "language_info": {
      "name": "python"
    }
  },
  "cells": [
    {
      "cell_type": "code",
      "metadata": {
        "id": "2tz1pFNofoO8"
      },
      "source": [
        "# state your name \n",
        "name = \" \"\n",
        "\n",
        "#state your gmail address\n",
        "gmail = \" \"\n",
        "\n",
        "#state your slack_username\n",
        "slack_username = \" \"\n",
        "\n",
        "#state your biostack (what field you have opted for in the start of this internship)\n",
        "biostack = \" \"\n",
        "\n",
        "\n",
        "def get_credentials(name , gmail , slack_username, biostack):\n",
        "  print(\"Hello my name is {} \".format(name))\n",
        "  print(\"My gmail is {} \".format(gmail))\n",
        "  print(\"My slack_username is {} \".format(slack_username))\n",
        "  print(\"Biostack : {}\".format(biostack))"
      ],
      "execution_count": 12,
      "outputs": []
    },
    {
      "cell_type": "code",
      "metadata": {
        "colab": {
          "base_uri": "https://localhost:8080/"
        },
        "id": "yonW46B_hUwv",
        "outputId": "e24b4901-b182-462f-987e-3379127138e3"
      },
      "source": [
        "\n",
        "name = \" Prem \"\n",
        "\n",
        "gmail  = \"Premthapa2580@gmail.com\"\n",
        "\n",
        "slack_username = \" @Prem Thapa\"\n",
        "\n",
        "biostack = \" Drug Discovery \"\n",
        "\n",
        "get_credentials(name , gmail , slack_username, biostack)"
      ],
      "execution_count": 13,
      "outputs": [
        {
          "output_type": "stream",
          "name": "stdout",
          "text": [
            "Hello my name is  Prem  \n",
            "My gmail is Premthapa2580@gmail.com \n",
            "My slack_username is  @Prem Thapa \n",
            "Biostack :  Drug Discovery \n"
          ]
        }
      ]
    },
    {
      "cell_type": "markdown",
      "metadata": {
        "id": "QQd-oIQmjvso"
      },
      "source": [
        "Now you try doing it "
      ]
    },
    {
      "cell_type": "code",
      "metadata": {
        "id": "Z1AQYcQsjuqG"
      },
      "source": [
        "#Please state your name inside the paranthesis\n",
        "name = \"  \"\n",
        "#Please state your mail inside the paranthesis\n",
        "gmail  = \"  \"\n",
        "#Please state your slack username(dont't forget the @) inside the paranthesis\n",
        "slack_username = \"   \"\n",
        "#Please state your biostack inside the paranthesis\n",
        "biostack = \"   \"\n",
        "\n",
        "get_credentials(name , gmail , slack_username, biostack)"
      ],
      "execution_count": null,
      "outputs": []
    }
  ]
}