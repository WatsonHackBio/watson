{
  "nbformat": 4,
  "nbformat_minor": 0,
  "metadata": {
    "colab": {
      "name": "Sakshi.ipynb",
      "provenance": []
    },
    "kernelspec": {
      "name": "python3",
      "display_name": "Python 3"
    },
    "language_info": {
      "name": "python"
    }
  },
  "cells": [
    {
      "cell_type": "code",
      "metadata": {
        "id": "mu1dJLegsGn1"
      },
      "source": [
        "name = \"Sakshi Singh \"\n",
        "gmail=\"sak43530@gmail.com \"\n",
        "slack=\"@Sakshi Singh \"\n",
        "biostack=\"Machine Learning & Data Science \"\n",
        "\n"
      ],
      "execution_count": 1,
      "outputs": []
    },
    {
      "cell_type": "code",
      "metadata": {
        "id": "qwJGbUSCt8xW"
      },
      "source": [
        "def get_info(name , gmail , slack , biostack):\n",
        "  print(\"My name is {}\".format(name))\n",
        "  print(\"My gmail is {}\".format(gmail))\n",
        "  print(\"My slack username is {}\".format(slack))\n",
        "  print(\"My biostack  is{} \".format(biostack))"
      ],
      "execution_count": 4,
      "outputs": []
    },
    {
      "cell_type": "code",
      "metadata": {
        "colab": {
          "base_uri": "https://localhost:8080/"
        },
        "id": "wzFrKU0KuUA1",
        "outputId": "de384c1c-9d7d-420b-d46a-ee215b32c48c"
      },
      "source": [
        "get_info(name , gmail , slack , biostack)"
      ],
      "execution_count": 5,
      "outputs": [
        {
          "output_type": "stream",
          "name": "stdout",
          "text": [
            "My name is Sakshi Singh \n",
            "My gmail is sak43530@gmail.com \n",
            "My slack username is @Sakshi Singh \n",
            "My biostack  isMachine Learning & Data Science  \n"
          ]
        }
      ]
    }
  ]
}