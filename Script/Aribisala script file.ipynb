{
 "cells": [
  {
   "cell_type": "code",
   "execution_count": 1,
   "id": "a0302b7d",
   "metadata": {},
   "outputs": [
    {
     "name": "stdout",
     "output_type": "stream",
     "text": [
      "Aribisala Jamiu Olaseni\n"
     ]
    }
   ],
   "source": [
    "print (\"Aribisala Jamiu Olaseni\")"
   ]
  },
  {
   "cell_type": "code",
   "execution_count": 2,
   "id": "36d44e64",
   "metadata": {},
   "outputs": [
    {
     "name": "stdout",
     "output_type": "stream",
     "text": [
      "jimexontop@gmail.com\n"
     ]
    }
   ],
   "source": [
    "print (\"jimexontop@gmail.com\")"
   ]
  },
  {
   "cell_type": "code",
   "execution_count": 5,
   "id": "b33504da",
   "metadata": {},
   "outputs": [
    {
     "name": "stdout",
     "output_type": "stream",
     "text": [
      "WatsonHackBio\n"
     ]
    }
   ],
   "source": [
    "print (\"WatsonHackBio\")"
   ]
  },
  {
   "cell_type": "code",
   "execution_count": 4,
   "id": "b0b0bbde",
   "metadata": {},
   "outputs": [
    {
     "name": "stdout",
     "output_type": "stream",
     "text": [
      "Aribisala\n"
     ]
    }
   ],
   "source": [
    "print (\"Aribisala\")"
   ]
  },
  {
   "cell_type": "code",
   "execution_count": null,
   "id": "2353d9cc",
   "metadata": {},
   "outputs": [],
   "source": []
  }
 ],
 "metadata": {
  "kernelspec": {
   "display_name": "Python 3",
   "language": "python",
   "name": "python3"
  },
  "language_info": {
   "codemirror_mode": {
    "name": "ipython",
    "version": 3
   },
   "file_extension": ".py",
   "mimetype": "text/x-python",
   "name": "python",
   "nbconvert_exporter": "python",
   "pygments_lexer": "ipython3",
   "version": "3.8.8"
  }
 },
 "nbformat": 4,
 "nbformat_minor": 5
}
